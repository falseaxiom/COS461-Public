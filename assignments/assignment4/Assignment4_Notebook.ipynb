{
 "cells": [
  {
   "cell_type": "markdown",
   "metadata": {},
   "source": [
    "# Network Security - Portscan"
   ]
  },
  {
   "cell_type": "markdown",
   "metadata": {},
   "source": [
    "Network operators actively monitor their networks to protect against various intrusion attacks. Network attackers often perform random \"portscans\" of IP addresses to find vulnerable machines to compromise. Network Intrusion Detection Systems (NIDS) attempt to detect such behavior and flag these portscanners as malicious. \n",
    "\n",
    "In this assignment, you will analyze the NetFlow network measurement data to identify potentially malicious traffic sent to the Princeton campus network. You will then simulate an online algorithm for identifying malicious remote hosts.\n",
    "\n",
    "This notebook has several parts. Each part contains sections marked TODO that you need to complete.\n",
    "\n",
    "**Put your name and netID in the cell below:**"
   ]
  },
  {
   "cell_type": "markdown",
   "metadata": {},
   "source": [
    "**Name:** Monique Legaspi\n",
    "\n",
    "**NetId:** mlegaspi"
   ]
  },
  {
   "cell_type": "markdown",
   "metadata": {},
   "source": [
    "### Parsing IPFIX Data\n",
    "The `netflow.csv` file contains pre-processed netflow data from a Princeton campus network border router. The data is \"unsampled,\" i.e. it compiles flow statistics for every packet that traverses any interface on the border router.  We used the `nfdump` tool to process the raw NetFlow data that the router collected. Each row of the `netflow.csv` file, except for the header on top, logs the following information for a flow:\n",
    "\n",
    "```\n",
    "Date first seen, Time first seen (m:s), Date last seen, Time last seen (m:s), Duration (s), Protocol, \n",
    "Src IP addr, Src port, Dst IP addr, Dst port, Packets, Bytes, Flags, Input interface, Output interface\t\t\n",
    "\n",
    "```\n",
    "\n",
    "To analyze this data, we first need to read it into a python data structure.  The following code uses the built-in `csv` library to read `netflow.csv` into a list of dictionaries.  The `csv` library documentation is here if you are interested: https://docs.python.org/2/library/csv.html"
   ]
  },
  {
   "cell_type": "code",
   "execution_count": 1,
   "metadata": {},
   "outputs": [
    {
     "name": "stdout",
     "output_type": "stream",
     "text": [
      "Number of flow records: 105360\n",
      "\n",
      "Sample flow entry: {'Dst IP addr': '128.112.213.189', 'Protocol': 'ICMP', 'Bytes': '94', 'Src port': '0', 'Src IP addr': '172.16.241.1', 'Input interface': '120', 'Packets': '1', 'Date first seen': '10/29/15', 'Output interface': '0', 'Duration (s)': '0', 'Time first seen (m:s)': '04:48.9', 'Flags': '.A....', 'Time last seen (m:s)': '04:48.9', 'Dst port': '11', 'Date last seen': '10/29/15'}\n"
     ]
    }
   ],
   "source": [
    "import csv\n",
    "\n",
    "with open('netflow.csv', 'r') as netflow_file:\n",
    "    netflow_reader = csv.DictReader(netflow_file)\n",
    "    netflow_data = list(netflow_reader)\n",
    "    \n",
    "print \"Number of flow records: {}\".format(len(netflow_data))\n",
    "print\n",
    "print \"Sample flow entry: {}\".format(netflow_data[0])"
   ]
  },
  {
   "cell_type": "markdown",
   "metadata": {},
   "source": [
    "## ** Part A: TCP SYN Scan Detection**\n",
    "\n",
    "In this part of the assignment, you will analyze TCP flow records to look for a TCP SYN scan attack. A [TCP SYN scan](https://en.wikipedia.org/wiki/Port_scanner#SYN_scanning) involves sending a TCP SYN packet to many different destinations to discover vulnerable machines on the network with open ports"
   ]
  },
  {
   "cell_type": "markdown",
   "metadata": {},
   "source": [
    "### Background"
   ]
  },
  {
   "cell_type": "markdown",
   "metadata": {},
   "source": [
    "In the previous assignment, we analyzed popular destinations by number of flows and by overall traffic volume. Such higher level statistics provide a coarse view of the network anomalies, but these statistics reveal less useful information about attacks and intrusion attempts. \n",
    "\n",
    "Abnormal activities are often difficult to detect amongst the amount of legitimate traffic that is typically found in a large enterprise network. Malicious hosts might not show up in lists of the top senders (either by bytes or by flows), and it can be difficult to determine the exact nature of attack traffic in advance. \n",
    "\n",
    "However, certain types of attacks have characteristic features that simplify their detection. For example, many attackers attempt to detect hosts running vulnerable services by scanning the address space using TCP SYN packets.  If a NetFlow record indicates that a flow contained a TCP SYN packet _but no packets with the ACK flag set_, we can conclude that this flow never completed and thus may be part of a TCP SYN scan---particularly if there are a lot of these flows.\n",
    "\n",
    "When an attacker sends a TCP SYN packet as part of a TCP SYN scan, there are three possible outcomes:\n",
    "- There is an active host at the destination IP address that is listening on the destination port of the SYN packet. In this case, the NetFlow record will contain both the TCP SYN and ACK flags in the flow record. These flows are difficult to distinguish from legitimate flows, because in this case a host actually answered the initial SYN. \n",
    "- There is no active host on the network at the destination IP address. In this case, we will only see TCP SYN flag. This is very different from the legitimate traffic behavior. It should be possible to identify malicious scanners by identifying these flows.\n",
    "- The destination is alive, but the port to which the SYN is sent is closed. If a client connects to a server's non-listening port, the server will send back a RST/ACK packet. According to normal TCP implementation guidelines, the scanner will immediately stop any TCP connection attempts once it receives a RST. Like in the previous case, the NetFlow record will show SYN requests from the scanner host to the destination host but no SYN/ACK packets in response."
   ]
  },
  {
   "cell_type": "markdown",
   "metadata": {},
   "source": [
    "### Analysis\n",
    "\n",
    "Let's first explore our NetFlow trace to determine whether the Princeton University campus network observes significant traffic with TCP SYN flags only (i.e., flows with TCP SYNs but no ACKs). \n",
    "\n",
    "In the following cell, determine the percentage of TCP flows in `netflow_data` that have SYN packet but no ACK packet. A flow has a SYN packet if there is an \"S\" in the \"Flags\" field.  A flow has an ACK packet if there is an \"A\" in the flags field.  Be sure to only consider TCP traffic (use the \"Protocol\" field).  \n",
    "\n",
    "Print the percentage you found at the end of the cell with an informative label (e.g. `print \"Percent SYN-only flows: {}\".format(percent_synonly)`)"
   ]
  },
  {
   "cell_type": "code",
   "execution_count": 2,
   "metadata": {},
   "outputs": [
    {
     "name": "stdout",
     "output_type": "stream",
     "text": [
      "Percent SYN-only flows: 88.4330693662\n"
     ]
    }
   ],
   "source": [
    "# TODO: determine the percentage of TCP flows in netflow_data that had a SYN packet but no ACK packet\n",
    "\n",
    "# iterate over all flows in dataset\n",
    "total_tcp_flows = 0.0\n",
    "synonly_flows = 0.0\n",
    "for flow in netflow_data:\n",
    "    # skip if it's not TCP!!\n",
    "    if (flow.get('Protocol') != 'TCP'):\n",
    "        continue\n",
    "        \n",
    "    # add to total_tcp_flows\n",
    "    total_tcp_flows += 1\n",
    "    \n",
    "    # get flag data\n",
    "    flags = flow.get('Flags')\n",
    "\n",
    "    # scan flags for S and A\n",
    "    seen_S = False\n",
    "    seen_A = False\n",
    "    for i, f in enumerate(flags):\n",
    "        if (f == 'S'):\n",
    "            seen_S = True\n",
    "        elif (f == 'A'):\n",
    "            seen_A = True\n",
    "            \n",
    "    # if flags contain S and not A, add to synonly_flows\n",
    "    if (seen_S and not(seen_A)):\n",
    "        synonly_flows += 1\n",
    "    \n",
    "# calculate percentage and print!\n",
    "percent_synonly = synonly_flows / total_tcp_flows * 100\n",
    "print \"Percent SYN-only flows: {}\".format(percent_synonly)"
   ]
  },
  {
   "cell_type": "markdown",
   "metadata": {},
   "source": [
    "Check your answer by passing it (as a float between 0 and 100) to the `check_synonly_percentage()` function below.  This compares the md5 hash of your answer (rounded to the nearest int) against the md5 hash of the correct answer."
   ]
  },
  {
   "cell_type": "code",
   "execution_count": 3,
   "metadata": {
    "scrolled": true
   },
   "outputs": [
    {
     "name": "stdout",
     "output_type": "stream",
     "text": [
      "Hashes match. Your percentage of SYN-only flows is correct.\n"
     ]
    }
   ],
   "source": [
    "from testing import check_synonly_percent\n",
    "\n",
    "# TODO: pass the percentage of SYN-only TCP flows to the following function\n",
    "check_synonly_percent(percent_synonly)"
   ]
  },
  {
   "cell_type": "markdown",
   "metadata": {},
   "source": [
    "Each of the flows that fall into this category are TCP SYN scan candidates."
   ]
  },
  {
   "cell_type": "markdown",
   "metadata": {},
   "source": [
    "## **Part B: Port Scan Detection Using Known Bad Ports**\n",
    "\n",
    "Another method of identifying attacks involves using TCP ports that are known to correspond to particularly vulnerable services.  For this assignment, we will consider ports 135, 139, 445, and 1433 as known bad ports. These correspond to Windows RPC, NetBIOS, SMB, and SQL-Snake attacks. We expect that most of the traffic to \"known bad\" ports are scanners, but that is not necessarily true for all traffic to these ports.  \n",
    "\n",
    "In the following cell, test this hypothesis by identifying which flows in the NetFlow data are to known bad ports on the Princeton network (regardless of IP address). Then see whether these flows are more likely to be TCP SYN scans then flows to other ports:\n",
    "\n",
    "1. Divide all the TCP flows in `netflow_data` into the following categories:\n",
    "   1. SYN-only flows to known bad ports\n",
    "   2. Other flows to known bad ports\n",
    "   3. SYN-only flows to other ports'\n",
    "   4. Other flows to other ports\n",
    "\n",
    "2. From these sets, calculate the following three percentages, store them in variables, and print them with informative labels:\n",
    "   1. Precent of flows to known bad ports out of all TCP flows\n",
    "   2. Percent of SYN-only flows out of all TCP flows to known bad ports\n",
    "   3. Percent of SYN-only flows out of all TCP flows to other ports"
   ]
  },
  {
   "cell_type": "code",
   "execution_count": 4,
   "metadata": {},
   "outputs": [
    {
     "name": "stdout",
     "output_type": "stream",
     "text": [
      "Percent of flows to known bad ports out of all TCP flows: 5.89571937845\n",
      "Percent of SYN-only flows out of all TCP flows to known bad ports: 99.7922917147\n",
      "Percent of SYN-only flows out of all TCP flows to other ports: 87.7214036813\n"
     ]
    }
   ],
   "source": [
    "# TODO write code as described above\n",
    "bad_ports = [\"135\", \"139\", \"445\", \"1433\"]\n",
    "\n",
    "total_tcp_bad = 0.0\n",
    "synonly_bad = 0.0\n",
    "for flow in netflow_data:\n",
    "    # skip if not TCP\n",
    "    if (flow.get('Protocol') != 'TCP'):\n",
    "        continue\n",
    "    \n",
    "    # check if flow goes to bad port, add to total_tcp_bad if so\n",
    "    port = flow.get('Dst port')\n",
    "    bad = False\n",
    "    for i in range(len(bad_ports)):\n",
    "        if (port == bad_ports[i]):\n",
    "            total_tcp_bad += 1\n",
    "            bad = True\n",
    "            \n",
    "    # get flag data\n",
    "    flags = flow.get('Flags')\n",
    "    \n",
    "    # scan flags for S and A\n",
    "    seen_S = False\n",
    "    seen_A = False\n",
    "    for i, f in enumerate(flags):\n",
    "        if (f == 'S'):\n",
    "            seen_S = True\n",
    "        elif (f == 'A'):\n",
    "            seen_A = True\n",
    "            \n",
    "    # if flags contain S and not A and the flow is bad, add to synonly_bad\n",
    "    if (seen_S and not(seen_A) and bad):\n",
    "        synonly_bad += 1\n",
    "        \n",
    "# calculate percentages and print!\n",
    "percent_knownbad = total_tcp_bad / total_tcp_flows * 100\n",
    "percent_synonly_knownbad = synonly_bad / total_tcp_bad * 100\n",
    "percent_synonly_other = (synonly_flows - synonly_bad) / (total_tcp_flows - total_tcp_bad) * 100\n",
    "print \"Percent of flows to known bad ports out of all TCP flows: {}\".format(percent_knownbad)\n",
    "print \"Percent of SYN-only flows out of all TCP flows to known bad ports: {}\".format(percent_synonly_knownbad)\n",
    "print \"Percent of SYN-only flows out of all TCP flows to other ports: {}\".format(percent_synonly_other)"
   ]
  },
  {
   "cell_type": "markdown",
   "metadata": {},
   "source": [
    "Check the 3 percentages you found in the previous cell by passing them to the corresponding `check` functions below"
   ]
  },
  {
   "cell_type": "code",
   "execution_count": 5,
   "metadata": {},
   "outputs": [
    {
     "name": "stdout",
     "output_type": "stream",
     "text": [
      "Hashes match. Your percentage of known bad flows is correct.\n",
      "Hashes match. Your percentage of SYN-only flows out of the known bad flows is correct.\n",
      "Hashes match. Your percentage of SYN-only flows out of the remaining flows is correct.\n"
     ]
    }
   ],
   "source": [
    "from testing import check_percent_knownbad, check_percent_synonly_knownbad, check_percent_synonly_other\n",
    "\n",
    "# TODO: pass percent values to following check functions\n",
    "check_percent_knownbad(percent_knownbad)\n",
    "check_percent_synonly_knownbad(percent_synonly_knownbad)\n",
    "check_percent_synonly_other(percent_synonly_other)"
   ]
  },
  {
   "cell_type": "markdown",
   "metadata": {},
   "source": [
    "In addition to identifying potentially malicious flows, a network operator would like to identify potentially malicious hosts. The operator can then block future traffic from these hosts. \n",
    "_______________________________"
   ]
  },
  {
   "cell_type": "markdown",
   "metadata": {},
   "source": [
    "#### Question 1:\n",
    "Why is it necessary to identify malicious hosts in order to stop port scans in real traffic? Why isn't identifying SYN-only flows sufficient? "
   ]
  },
  {
   "cell_type": "markdown",
   "metadata": {},
   "source": [
    "#### Answer 1:\n",
    "It's necessary to identify malicious hosts to stop port scans in real traffic because you need to protect your network from compromisation constantly and efficiently. Identifying a malicious host, rather than just a flow, would allow you to further know if a host has a habit of acting maliciously, and so any SYN-only flows from them are extra-suspicious and should be blocked. Identifying just SYN-only flows is not sufficient because they could be coming from a regular host that actually does need to connect to your network, or that sends out these kinds of flows regularly as necessary to their provided service."
   ]
  },
  {
   "cell_type": "markdown",
   "metadata": {},
   "source": [
    "_________________________\n",
    "However, network operators want to avoid blocking benign traffic.  The potential for blocking benign traffic depends on the overlap between hosts that send malicious-looking traffic and hosts that send normal traffc. \n",
    "\n",
    "Complete the following code to find this overlap:\n",
    "1. Find a set of all hosts (IP addresses) that sent SYN-only or known bad port flows to Princeton during the recorded netflow data. We will call these the \"malicious hosts\"\n",
    "2. Find a set of all hosts that sent non-SYN-only flows to other (not known bad) ports. We will call these the \"benign hosts\"\n",
    "2. Find the intersection of the malicious hosts with the benign hosts. We will call this intersection the \"questionable\" hosts.\n",
    "3. Remove these \"questionable\" hosts from the \"malicious hosts\" and \"benign hosts\" sets.\n",
    "3. Calculate and print 3 values with informative labels:\n",
    "    1. The number of remaining malicious hosts \n",
    "    2. The number of remaining benign hosts\n",
    "    3. The number of questionable hosts\n",
    "\n",
    "Only include flows with source IPs external to the Princeton network (not 128.112.\\*.\\*).   We have provided an `internalIP()` function that returns True if the argument IP address is from within the Princeton network. \n",
    "\n",
    "The python `set` type will be useful, documentation here: https://docs.python.org/2/library/stdtypes.html#set-types-set-frozenset"
   ]
  },
  {
   "cell_type": "code",
   "execution_count": 29,
   "metadata": {},
   "outputs": [
    {
     "name": "stdout",
     "output_type": "stream",
     "text": [
      "The number of remaining benign hosts:     66\n",
      "The number of remaining malicious hosts:  4479\n",
      "The number of questionable hosts:         12\n"
     ]
    }
   ],
   "source": [
    "# InternalIP returns true if the argument IP address is within the Princeton network\n",
    "def internalIP(ip):\n",
    "    s = ip.split('.')\n",
    "    if s[0] == \"128\" and s[1] == \"112\":\n",
    "        return True\n",
    "    return False\n",
    "\n",
    "# TODO: write code as described above\n",
    "malicious_hosts = set()\n",
    "benign_hosts = set()\n",
    "questionable_hosts = set()\n",
    "\n",
    "# check all flows for malicious \n",
    "for flow in netflow_data:\n",
    "    # skip if not TCP\n",
    "    if (flow.get('Protocol') != 'TCP'):\n",
    "        continue\n",
    "        \n",
    "    # skip if src IP in Princeton networks\n",
    "    src_IP = str(flow.get('Src IP addr'))\n",
    "    if (internalIP(src_IP)):\n",
    "        continue\n",
    "    \n",
    "    # check if flow goes to bad port, mark as badport if so\n",
    "    port = flow.get('Dst port')\n",
    "    badport = False\n",
    "    for i in range(len(bad_ports)):\n",
    "        if (port == bad_ports[i]):\n",
    "            badport = True\n",
    "    \n",
    "    # scan flags for S and A, mark as synonly if only S\n",
    "    flags = flow.get('Flags')\n",
    "    seen_S = False\n",
    "    seen_A = False\n",
    "    synonly = False\n",
    "    for i, f in enumerate(flags):\n",
    "        if (f == 'S'):\n",
    "            seen_S = True\n",
    "        elif (f == 'A'):\n",
    "            seen_A = True\n",
    "    if (seen_S and not(seen_A)):\n",
    "        synonly = True\n",
    "        \n",
    "    # if badport or synonly, collect IP as malicious; else, collect as benign\n",
    "    if (badport or synonly):\n",
    "        malicious_hosts.add(src_IP)\n",
    "    else:\n",
    "        benign_hosts.add(src_IP)\n",
    "        \n",
    "# find intersection of malicious and benign hosts, store in questionable, subtract\n",
    "for mal in malicious_hosts:\n",
    "    for ben in benign_hosts:\n",
    "        if (mal == ben):\n",
    "            questionable_hosts.add(mal)\n",
    "malicious_hosts = malicious_hosts - questionable_hosts\n",
    "benign_hosts = benign_hosts - questionable_hosts\n",
    "            \n",
    "# calculate numbers of each type of host\n",
    "num_questionable_hosts = len(questionable_hosts)\n",
    "num_benign_hosts = len(benign_hosts)\n",
    "num_malicious_hosts = len(malicious_hosts)\n",
    "\n",
    "print \"The number of remaining benign hosts:    \", num_benign_hosts\n",
    "print \"The number of remaining malicious hosts: \", num_malicious_hosts\n",
    "print \"The number of questionable hosts:        \", num_questionable_hosts"
   ]
  },
  {
   "cell_type": "markdown",
   "metadata": {},
   "source": [
    "Pass the counts you found into the following `check` functions to verify them"
   ]
  },
  {
   "cell_type": "code",
   "execution_count": 30,
   "metadata": {},
   "outputs": [
    {
     "name": "stdout",
     "output_type": "stream",
     "text": [
      "Hashes match. Your number of benign hosts is correct.\n",
      "Hashes match. Your number of malicious hosts is correct.\n",
      "Hashes match. Your number of questionable hosts is correct.\n"
     ]
    }
   ],
   "source": [
    "from testing import check_num_malicious_hosts, check_num_benign_hosts, check_num_questionable_hosts\n",
    "\n",
    "# TODO: pass percent values to following check functions\n",
    "check_num_benign_hosts(num_benign_hosts)\n",
    "check_num_malicious_hosts(num_malicious_hosts)\n",
    "check_num_questionable_hosts(num_questionable_hosts)"
   ]
  },
  {
   "cell_type": "markdown",
   "metadata": {},
   "source": [
    "________________________\n",
    "#### Question 2:\n",
    "Who are all of these potentially malicious hosts? Choose 2 IP addresses in the set of \"malicious hosts\" and see what you can find out about them using `whois` and searching online.  Report the most interesting parts of your findings below. "
   ]
  },
  {
   "cell_type": "markdown",
   "metadata": {},
   "source": [
    "#### Answer 2:\n",
    "`whois 218.28.92.228`: China Unicom Henan Province Network, based in Henan, China. It is a state-owned telecommunications operator. \n",
    "\n",
    "`whois 86.40.88.79`: Eircom Telecommunications Network, based in Dublin, Ireland. It is a privatized fixed, mobile and broadband telecommunications company.\n",
    "\n",
    "What I found most interesting is that both of these companies specialize in telecommunications, and especially that the companies are so large and well-known that they have their own Wikipedia pages--and yet, these pages are devoid of any controversies about portscanning. I'm not really sure what it means; perhaps these foreign companies are doing shady things, or maybe phone companies are always pinging other networks to see if they're open."
   ]
  },
  {
   "cell_type": "markdown",
   "metadata": {},
   "source": [
    "__________________________________\n",
    "## **Part C: Online Port Scan Detection**"
   ]
  },
  {
   "cell_type": "markdown",
   "metadata": {},
   "source": [
    "In the previous sections, we used offline analysis of pre-recorded traffic to identify potentially malicious hosts. A real network operator would not want to wait for offline analysis in order to detect potential threats.  Instead, he or she would configure a network intrusion detection system (NIDS) to use an online port scan detection algorithm to classify hosts as benign or malicious, updating these classifications in real-time as traffic flows occur. \n",
    "\n",
    "### Bro's Port Scan Detection Algorithm\n",
    "\n",
    "The port scan detection algorithm used in the [Bro system](https://pdfs.semanticscholar.org/f121/cde8d3d5364717caf2b91d27a270ec004cac.pdf) was published in 1999 by Vern Paxson, et al.\n",
    "\n",
    "Bro's detection algorithm builds on the same intution that failed connection attempts (SYN-only or SYN/RST flows) are good indicators for identifying scans.\n",
    "\n",
    "The algorithm treats connection attempts differently depending on the service (determined by port) to which the connection is intended.  Bro only tracks failed connection attempts (SYN-only or SYN/RST) to a specific set of \"known good\" services.\n",
    "\n",
    "For all other services, Bro tracks all connection attempts, whether or not the attempts fail or succeed. \n",
    "\n",
    "For each sending host, Bro counts the number of distinct destination addresses corresponding to tracked connection attempts. If the number exceeds some threshold, `T`, Bro flags the host as a scanner.\n",
    "\n",
    "By default, the set of services for which only failures are considered includes HTTP (80), SSH (22), Telnet (23), SMTP (25), IDENT (113), FTP (20), and Gopher (70). These services are \"known good,\" i.e. we expect many connections to be initiated to these services, so we should not count successful connection attempts against a sending host. \n",
    "\n",
    "#### Task: Implement Bro's port scan detection algorithm.\n",
    "\n",
    "Complete the Bro class below to implement Bro's port scan detection algorithm.  "
   ]
  },
  {
   "cell_type": "code",
   "execution_count": 62,
   "metadata": {},
   "outputs": [],
   "source": [
    "from collections import defaultdict\n",
    "\n",
    "# TODO: complete the methods marked TODO in the Bro class to implement the Bro algorithm\n",
    "class Bro:\n",
    "    \n",
    "    # class constructor saves the parameter threshold value and sets instance variables\n",
    "    def __init__(self, threshold):\n",
    "        self.T = threshold\n",
    "        \n",
    "        # self.good_services is the list of port numbers to which successful connections \n",
    "        #     (SYN and ACK) should not be tracked\n",
    "        self.good_services = [80, 22, 23, 25, 113, 20, 70]\n",
    "        \n",
    "        # self.tracked maps sending hosts to a set of destination addresses\n",
    "        #     from tracked connection attempts \n",
    "        self.tracked = defaultdict(set)\n",
    "\n",
    "        \n",
    "    # TODO: block_connection() takes a sending host IP address of an incoming connection\n",
    "    #       returns True if the connection should be blocked (because the host has surpassed\n",
    "    #       the threshold of destination addresses in tracked connection attempts) or False otherwise\n",
    "    def block_connection(self, host_ip):\n",
    "        if host_ip in self.tracked:\n",
    "            track = self.tracked.get(host_ip)\n",
    "            if track[0].get('Dst port') in self.good_services:\n",
    "                flags = track[0].get('Flags')\n",
    "                seen_S = False\n",
    "                seen_A = False\n",
    "                for i, f in enumerate(flags):\n",
    "                    if (f == 'S'):\n",
    "                        seen_S = True\n",
    "                    elif (f == 'A'):\n",
    "                        seen_A = True\n",
    "                if (seen_S and not(seen_A)):\n",
    "                    return (track[1] > self.T)\n",
    "                else:\n",
    "                    return False\n",
    "            else:\n",
    "                return (track[1] > self.T)\n",
    "        else: \n",
    "            return False\n",
    "    \n",
    "    \n",
    "    # TODO: process_flow() takes a netflow record of a TCP flow that was not blocked\n",
    "    #       (as a netflow record dict) and should update self.tracked\n",
    "    #       with the contents of the record\n",
    "    def process_flow(self, netflow_record):\n",
    "        src_ip = netflow_record.get(\"Src IP addr\")\n",
    "        if src_ip in self.tracked:\n",
    "            self.tracked[src_ip][1] += 1\n",
    "        else:\n",
    "            self.tracked[src_ip] = [netflow_record, 0]\n",
    "        "
   ]
  },
  {
   "cell_type": "markdown",
   "metadata": {},
   "source": [
    "Note that a full implementation of Bro's detection algorithm would also contain a moving time window over which tracked connection attempts are remembered.  This prevents a benign host from being blocked if it is dynamically assigned an IP address that previously belonged to an attacker. However, the NetFlow data we are using in this assignment is from only approximately 5 minutes of traffic, so we don't need to worry about time windows. \n",
    "\n",
    "The following `run_bro()` function takes a threshold value and runs your Bro algorithm on the NetFlow data, returning a set of all addresses blocked during the course of the algorithm. This function is already complete."
   ]
  },
  {
   "cell_type": "code",
   "execution_count": 63,
   "metadata": {},
   "outputs": [],
   "source": [
    "def run_bro(threshold):\n",
    "    blocked_hosts = set()\n",
    "    bro = Bro(threshold)\n",
    "    for flow in netflow_data:\n",
    "        src_ip = flow[\"Src IP addr\"]\n",
    "        if flow[\"Protocol\"] != \"TCP\":\n",
    "            continue\n",
    "        if internalIP(src_ip):\n",
    "            continue\n",
    "        block = bro.block_connection(src_ip)\n",
    "        if block:\n",
    "            blocked_hosts.add(src_ip)\n",
    "            continue\n",
    "        bro.process_flow(flow)\n",
    "    return blocked_hosts      "
   ]
  },
  {
   "cell_type": "markdown",
   "metadata": {},
   "source": [
    "Before running Bro on their network intrusion detection system, a network operator might want to know how sensitive the algorithm is to the threshold variable `T`. \n",
    "\n",
    "In the following cell, create a 120 element list such that element `i` contains the number of blocked hosts in the set returned by `run_bro(i)`.  Then pass the list to the `plot_bro()` function to plot a sensitivity curve."
   ]
  },
  {
   "cell_type": "code",
   "execution_count": 66,
   "metadata": {},
   "outputs": [
    {
     "data": {
      "image/png": "[encoded data removed]",
      "text/plain": [
       "<Figure size 1152x576 with 1 Axes>"
      ]
     },
     "metadata": {
      "needs_background": "light"
     },
     "output_type": "display_data"
    }
   ],
   "source": [
    "%matplotlib inline\n",
    "from plotting import plot_bro\n",
    "\n",
    "# TODO: generate the list described above\n",
    "l = 120\n",
    "blocked_list = []\n",
    "for i in range(l):\n",
    "    blocked_list.append(len(run_bro(i)))\n",
    "    \n",
    "# TODO: pass the list to the plot_bro function\n",
    "plot_bro(blocked_list)"
   ]
  },
  {
   "cell_type": "markdown",
   "metadata": {},
   "source": [
    "_____\n",
    "#### Question 3:\n",
    "A threshold of 100 is the default for Bro's algorithm. Given the results in the above plot, why do you think this value was chosen?  What are the pros and cons of choosing a higher or lower threshold?"
   ]
  },
  {
   "cell_type": "markdown",
   "metadata": {},
   "source": [
    "#### Answer 3:\n",
    "\n",
    "The default threshold of 100 was probably chosen because it blocks out a reasonable percentage of suspected malicious hosts; maybe it doesn't catch all of them, but it gets those that ping the network frequently enough to be suspicious in their intentions. A lower threshold will probably block more hosts, but in the process may block hosts that are not necessarily acting maliciously and just happen to be pinging a lot. A higher threshold will block out especially malicious hosts that attempt to connect at an extremely high rate, but may miss malicious hosts that are not as frequent in their connection attempts (for example, some may connect more infrequently to get past a high threshold)."
   ]
  },
  {
   "cell_type": "markdown",
   "metadata": {},
   "source": [
    "#### Question 4:\n",
    "A threshold of 100 would have blocked $\\approx$115 hosts (if your implementation didn't, you should check it for bugs).  This is many fewer hosts than the number of malicious hosts found in Part B.  What differences between Bro's algorithm and the method usd in Part B caused this difference? Which method do you think is more likely to be accurate? Why?"
   ]
  },
  {
   "cell_type": "markdown",
   "metadata": {},
   "source": [
    "#### Answer 4:\n",
    "\n",
    "Bro's algorithm checks the frequency at which a host attempts to connect to its  I believe Bro's algorithm is more accurate because it takes into consideration what it observes a specific host over time before deciding "
   ]
  },
  {
   "cell_type": "markdown",
   "metadata": {},
   "source": [
    "___________"
   ]
  },
  {
   "cell_type": "markdown",
   "metadata": {},
   "source": [
    "There are many other online port scan detection algorithms in addition to Bro. For example, the Threshold Random Walk (TRW) algorithm uses maximum likelihood ratios to tune the threshold parameter in an attempt to block as much malicious traffic as possible without blacklisting benign hosts. \n",
    "\n",
    "If you are curious, the TRW algorithm is described in this paper: http://www.icir.org/vern/papers/portscan-oak04.pdf. "
   ]
  },
  {
   "cell_type": "markdown",
   "metadata": {},
   "source": [
    "## Submission"
   ]
  },
  {
   "cell_type": "markdown",
   "metadata": {},
   "source": [
    "\n",
    "**Remember to \"Save and Checkpoint\" (from the \"File\" menu above) before you leave the notebook or close your tab.**"
   ]
  }
 ],
 "metadata": {
  "kernelspec": {
   "display_name": "Python 2",
   "language": "python",
   "name": "python2"
  },
  "language_info": {
   "codemirror_mode": {
    "name": "ipython",
    "version": 2
   },
   "file_extension": ".py",
   "mimetype": "text/x-python",
   "name": "python",
   "nbconvert_exporter": "python",
   "pygments_lexer": "ipython2",
   "version": "2.7.12"
  }
 },
 "nbformat": 4,
 "nbformat_minor": 1
}
